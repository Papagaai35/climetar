{
 "cells": [
  {
   "cell_type": "markdown",
   "metadata": {},
   "source": [
    "# Maps\n",
    "In dit script worden verschillende kaarten gemaakt. Het downloaden/analyseren van stationsdata is daarvoor niet nodig."
   ]
  },
  {
   "cell_type": "markdown",
   "metadata": {},
   "source": [
    "**Instellingen**  \n",
    "Wijzig de onderstaande instellingen naar wens.\n",
    "* `stations` de vliegvelden die op de kaart weergegeven moet worden.\n",
    "* `focus` lijst van landen en of vliegvelden waarop ingezoomd meoet worden\n",
    "* `naam` Bestandsnaam van de kaart\n",
    "* `folder_output` de map waar de afbeeldingen moeten worden opgeslagen\n",
    "\n",
    "Nadat je de instellingen hebt aangepast, kun je de cel draaien met <b>Shift</b>+<b>Enter</b>."
   ]
  },
  {
   "cell_type": "code",
   "execution_count": 1,
   "metadata": {},
   "outputs": [],
   "source": [
    "stations = ['EHAM']\n",
    "focus = ['NLD']\n",
    "naam = 'NLD'\n",
    "folder_output = './results/maps'"
   ]
  },
  {
   "cell_type": "markdown",
   "metadata": {},
   "source": [
    "**Script**   \n",
    "Hieronder zijn wijzingingen in principe niet meer nodig.  \n",
    "Daai alle cellen door op <b>Shfit</b>+<b>Enter</b> te drukken."
   ]
  },
  {
   "cell_type": "code",
   "execution_count": 2,
   "metadata": {},
   "outputs": [],
   "source": [
    "import climetar"
   ]
  },
  {
   "cell_type": "code",
   "execution_count": 3,
   "metadata": {},
   "outputs": [
    {
     "name": "stdout",
     "output_type": "stream",
     "text": [
      "Kaarten: Blanco Klimaat Relief Klaar!\n",
      "\n",
      "Kaarten kunnen gevonden worden in ./results/maps/NLD_*.png\n"
     ]
    }
   ],
   "source": [
    "smap = climetar.StationMapper(folder_output=folder_output)\n",
    "smap.focus_map_on(focus)\n",
    "smap.display_stations(stations)\n",
    "smap.save_name = naam\n",
    "smap.generate_maps()"
   ]
  },
  {
   "cell_type": "code",
   "execution_count": null,
   "metadata": {},
   "outputs": [],
   "source": []
  }
 ],
 "metadata": {
  "kernelspec": {
   "display_name": "Python 3",
   "language": "python",
   "name": "python3"
  },
  "language_info": {
   "codemirror_mode": {
    "name": "ipython",
    "version": 3
   },
   "file_extension": ".py",
   "mimetype": "text/x-python",
   "name": "python",
   "nbconvert_exporter": "python",
   "pygments_lexer": "ipython3",
   "version": "3.7.4"
  }
 },
 "nbformat": 4,
 "nbformat_minor": 4
}
