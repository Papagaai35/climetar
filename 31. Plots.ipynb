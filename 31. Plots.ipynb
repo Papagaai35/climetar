{
 "cells": [
  {
   "cell_type": "markdown",
   "metadata": {},
   "source": [
    "# Yearly Plots\n",
    "In dit script worden de geanalyseerde METARs en SPECIs verwerkt tot klimaatoverzichten, die een beeld geven over het hele jaar. Deze overzichten worden opgeslagen als PNG-bestand"
   ]
  },
  {
   "cell_type": "markdown",
   "metadata": {},
   "source": [
    "**Instellingen**  \n",
    "Wijzig de onderstaande instellingen naar wens.\n",
    "* `stations` de vliegvelden waarvoor je de klimaatoverzcihten wil genereren\n",
    "* `folder_output` de map waar de afbeeldingen moeten worden opgeslagen\n",
    "* `stations_on_map` als je nog meer vliegvelden op de kaart wil weergeven, voeg dan hier de ICAO codes toe.\n",
    "* `filters` als je niet alle METAR/SPECI-berichten mee wil nemen, kun je dat hier aanpasen. Bijvoorbeeld door alleen berichten mee te nemen binnen bepaalde jaren, of die langer dan 2 minuten geldig zijn.\n",
    "\n",
    "Nadat je de instellingen hebt aangepast, kun je de cel draaien met <b>Shift</b>+<b>Enter</b>."
   ]
  },
  {
   "cell_type": "code",
   "execution_count": null,
   "metadata": {},
   "outputs": [],
   "source": [
    "stations = ['EHAM']\n",
    "folder_output = './results/YearlyPDF'\n",
    "\n",
    "stations_on_map = []\n",
    "filters = {\n",
    "    'minutes_valid': '2.5...61',\n",
    "    'year': '2012...2020',\n",
    "}"
   ]
  },
  {
   "cell_type": "markdown",
   "metadata": {},
   "source": [
    "**Script**   \n",
    "Hieronder zijn wijzingingen in principe niet meer nodig.  \n",
    "Daai alle cellen door op <b>Shfit</b>+<b>Enter</b> te drukken."
   ]
  },
  {
   "cell_type": "code",
   "execution_count": null,
   "metadata": {},
   "outputs": [],
   "source": [
    "import climetar"
   ]
  },
  {
   "cell_type": "code",
   "execution_count": null,
   "metadata": {},
   "outputs": [],
   "source": [
    "for station in stations:\n",
    "    mpt = climetar.MetarPlotter(folder_output=folder_output)\n",
    "    mpt.load_data(station)\n",
    "    mpt.apply_filters(filters)\n",
    "    mpt.stations_on_map = stations + stations_on_map\n",
    "    mpt.generate_yearly_plots()"
   ]
  },
  {
   "cell_type": "code",
   "execution_count": null,
   "metadata": {},
   "outputs": [],
   "source": []
  }
 ],
 "metadata": {
  "kernelspec": {
   "display_name": "Python 3",
   "language": "python",
   "name": "python3"
  },
  "language_info": {
   "codemirror_mode": {
    "name": "ipython",
    "version": 3
   },
   "file_extension": ".py",
   "mimetype": "text/x-python",
   "name": "python",
   "nbconvert_exporter": "python",
   "pygments_lexer": "ipython3",
   "version": "3.7.4"
  }
 },
 "nbformat": 4,
 "nbformat_minor": 4
}
