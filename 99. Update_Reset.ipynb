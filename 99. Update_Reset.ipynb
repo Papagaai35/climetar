{
 "cells": [
  {
   "cell_type": "markdown",
   "metadata": {},
   "source": [
    "Als je alle data wilt verwijderen en opnieuw wilt beginnen, kun je de instructies daarvoor hieronder vinden, bij [Resetten](#reset)"
   ]
  },
  {
   "cell_type": "markdown",
   "metadata": {},
   "source": [
    "# Update\n",
    "Regelmatig worden er wijzigingen in CliMETAR gemaakt, en updates uitgebracht. Dit script checkt ofdat er updates beschikbaar zijn."
   ]
  },
  {
   "cell_type": "markdown",
   "metadata": {},
   "source": [
    "## Is een update nodig?\n",
    "De onderstaande scriptregel kijkt hoeveel nieuwe versies er zijn uitgebracht sinds je laatste update.  \n",
    "Als de cel hieronder `0` als output heeft, heb je de laatste versie en hoef je niet te updaten.\n",
    "\n",
    "Run de onderstaande cel met <b>Shift</b>+<b>Enter</b>."
   ]
  },
  {
   "cell_type": "code",
   "execution_count": null,
   "metadata": {},
   "outputs": [],
   "source": [
    "!git fetch > /dev/null 2>&1\n",
    "!git rev-list HEAD...origin/master --count"
   ]
  },
  {
   "cell_type": "markdown",
   "metadata": {},
   "source": [
    "## Updaten\n",
    "De onderstaande cel update alle scripts, maar behoud de door jouw gegenereerde data.\n",
    "\n",
    "Run de onderstaande cel met <b>Shift</b>+<b>Enter</b>."
   ]
  },
  {
   "cell_type": "code",
   "execution_count": null,
   "metadata": {},
   "outputs": [],
   "source": [
    "!git fetch > /dev/null 2>&1\n",
    "!git reset --hard\n",
    "!git pull"
   ]
  },
  {
   "cell_type": "markdown",
   "metadata": {},
   "source": [
    "<img src=\"./resources/docs/notebook_shutdown.png\" style=\"float:right;\" />\n",
    "\n",
    "<b>Ten slotte</b>\n",
    "\n",
    "Selecteer na een update het \"Running Terminals and Kernels\" menu in het linker zijbalk (1), en klik op het kruisje naast \"Kernel Sessions\" (2). Ga daarna terug naar de \"File Browser\" (3).\n",
    "\n",
    "Sluit, als laatste, alle tabbladen van nog openstaande notebooks (door bovenaan dit venster op de kruisjes te klikken)."
   ]
  },
  {
   "cell_type": "markdown",
   "metadata": {},
   "source": [
    "<a id=\"reset\"></a>"
   ]
  },
  {
   "cell_type": "markdown",
   "metadata": {},
   "source": [
    "# Resetten\n",
    "Door de repository te resetten, verlies je alle data die je gegenereerd hebt, en wordt de CliMETAR-omgeving teruggezet naar \"fabrieksinstellingen\".\n",
    "\n",
    "<b>Let op</b>: Dit verwijderd ook alle gedownloade data, geanalyseerde METAR berichten en resultaten!\n",
    "Als je specifieke data wilt behouden, download deze dan eerst naar je computer!"
   ]
  },
  {
   "cell_type": "code",
   "execution_count": null,
   "metadata": {},
   "outputs": [],
   "source": [
    "!git fetch > /dev/null 2>&1\n",
    "!git reset --hard\n",
    "!git clean -xdf\n",
    "!git pull"
   ]
  },
  {
   "cell_type": "markdown",
   "metadata": {},
   "source": [
    "<img src=\"./resources/docs/notebook_shutdown.png\" style=\"float:right;\" />\n",
    "\n",
    "<b>Ten slotte</b>\n",
    "\n",
    "Selecteer na een update het \"Running Terminals and Kernels\" menu in het linker zijbalk (1), en klik op het kruisje naast \"Kernel Sessions\" (2). Bevestig de waarschuwing die verschijnt.\n",
    "\n",
    "Ga daarna terug naar de \"File Browser\" (3).\n",
    "\n",
    "Sluit, als laatste, alle tabbladen van nog openstaande notebooks (door bovenaan dit venster op de kruisjes te klikken)."
   ]
  },
  {
   "cell_type": "code",
   "execution_count": null,
   "metadata": {},
   "outputs": [],
   "source": []
  }
 ],
 "metadata": {
  "kernelspec": {
   "display_name": "Python 3",
   "language": "python",
   "name": "python3"
  },
  "language_info": {
   "codemirror_mode": {
    "name": "ipython",
    "version": 3
   },
   "file_extension": ".py",
   "mimetype": "text/x-python",
   "name": "python",
   "nbconvert_exporter": "python",
   "pygments_lexer": "ipython3",
   "version": "3.7.4"
  }
 },
 "nbformat": 4,
 "nbformat_minor": 4
}
