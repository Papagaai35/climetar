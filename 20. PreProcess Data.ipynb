{
 "cells": [
  {
   "cell_type": "markdown",
   "metadata": {},
   "source": [
    "# Preprocess data\n",
    "In dit script worden de gedownloade METARS geanalyseerd en verwerkt tot numerieke waardes. Deze waardes worden opgeslagen omgezet in `.metar`-bestanden, die weer gelezen kunnen worden door de klimaat-plot scripts."
   ]
  },
  {
   "cell_type": "markdown",
   "metadata": {},
   "source": [
    "**Instellingen**  \n",
    "Wijzig de instellingen hieronder naar wens.\n",
    "* `gedownloade_data` selecteerd de bestanden die moeten worden geanalyseerd. Standaard worden alle `.csv` en `.txt` bestanden in de `downloads`-map meegenomen. (Syntax `glob`).\n",
    "* Zet `analyseer_opnieuw = True` als je al geanalyseerde bestanden opnieuw wilt analyseren.\n",
    "\n",
    "Nadat je de instellingen hebt aangepast, kun je de cel draaien met <b>Shift</b>+<b>Enter</b>."
   ]
  },
  {
   "cell_type": "code",
   "execution_count": null,
   "metadata": {},
   "outputs": [],
   "source": [
    "gedownloade_data = [\n",
    "    'downloads/*.csv',\n",
    "    'downloads/*.txt'\n",
    "]\n",
    "analyseer_opnieuw = False"
   ]
  },
  {
   "cell_type": "markdown",
   "metadata": {},
   "source": [
    "**Script**   \n",
    "Hieronder zijn wijzingingen in principe niet meer nodig.  \n",
    "Daai alle cellen door op <b>Shfit</b>+<b>Enter</b> te drukken."
   ]
  },
  {
   "cell_type": "code",
   "execution_count": null,
   "metadata": {},
   "outputs": [],
   "source": [
    "import climetar"
   ]
  },
  {
   "cell_type": "code",
   "execution_count": null,
   "metadata": {},
   "outputs": [],
   "source": [
    "climetar.analyse_files(gedownloade_data,analyseer_opnieuw);"
   ]
  },
  {
   "cell_type": "markdown",
   "metadata": {},
   "source": [
    "# Vervolg\n",
    "Heb alle data verwerkt? Dan kunnen we de uitvoer gaan genereren. Dat kan met de onderstaande scripts:\n",
    "\n",
    "* [31. Plots.ipynb](31.%20Plots.ipynb) genereert grafiekjes voor gebruik in de JMG Klimaatanalyses\n",
    "* [32. MonthlyPDF.ipynb](32.%20MonthlyPDF.ipynb) genereerd een PDF met het klimaat per maand"
   ]
  },
  {
   "cell_type": "code",
   "execution_count": null,
   "metadata": {},
   "outputs": [],
   "source": []
  }
 ],
 "metadata": {
  "kernelspec": {
   "display_name": "Python 3",
   "language": "python",
   "name": "python3"
  },
  "language_info": {
   "codemirror_mode": {
    "name": "ipython",
    "version": 3
   },
   "file_extension": ".py",
   "mimetype": "text/x-python",
   "name": "python",
   "nbconvert_exporter": "python",
   "pygments_lexer": "ipython3",
   "version": "3.7.4"
  }
 },
 "nbformat": 4,
 "nbformat_minor": 4
}
