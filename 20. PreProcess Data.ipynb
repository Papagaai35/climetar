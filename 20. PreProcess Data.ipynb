{
 "cells": [
  {
   "cell_type": "markdown",
   "metadata": {},
   "source": [
    "# Preprocess data\n",
    "In dit script worden de gedownloade bestanden omgezet in `*.metar`-bestanden, die weer gelezen kunnen worden door de klimaat-plot scripts."
   ]
  },
  {
   "cell_type": "markdown",
   "metadata": {},
   "source": [
    "**Instellingen**  \n",
    "Wijzig de `file_patterns` naar wens. Syntax `glob`"
   ]
  },
  {
   "cell_type": "code",
   "execution_count": 1,
   "metadata": {},
   "outputs": [],
   "source": [
    "file_patterns = [\n",
    "    'downloads/*.csv',\n",
    "    'downloads/*.txt'\n",
    "]"
   ]
  },
  {
   "cell_type": "markdown",
   "metadata": {},
   "source": [
    "**Script**  \n",
    "Hieronder zijn wijzingingen in principe niet meer nodig."
   ]
  },
  {
   "cell_type": "code",
   "execution_count": 2,
   "metadata": {},
   "outputs": [],
   "source": [
    "import climetar"
   ]
  },
  {
   "cell_type": "code",
   "execution_count": 3,
   "metadata": {},
   "outputs": [
    {
     "name": "stdout",
     "output_type": "stream",
     "text": [
      "downloads asos.txt\n",
      "Parsing downloads/asos.txt in 9 chunks of 50000 lines\n",
      "Parsed chunk 1\n",
      "Parsed chunk 2\n",
      "Parsed chunk 3\n",
      "Parsed chunk 4\n",
      "Parsed chunk 5\n",
      "Parsed chunk 6\n",
      "Parsed chunk 7\n",
      "Parsed chunk 8\n",
      "Parsed chunk 9\n",
      "Imported \"downloads/asos.txt\"\n"
     ]
    }
   ],
   "source": [
    "for pattern in file_patterns:\n",
    "    climetar.import_files(pattern)"
   ]
  },
  {
   "cell_type": "code",
   "execution_count": null,
   "metadata": {},
   "outputs": [],
   "source": [
    "climetar.import_raw('downloads/asos.txt',linenr=3000001)"
   ]
  }
 ],
 "metadata": {
  "kernelspec": {
   "display_name": "Python 3",
   "language": "python",
   "name": "python3"
  },
  "language_info": {
   "codemirror_mode": {
    "name": "ipython",
    "version": 3
   },
   "file_extension": ".py",
   "mimetype": "text/x-python",
   "name": "python",
   "nbconvert_exporter": "python",
   "pygments_lexer": "ipython3",
   "version": "3.7.4"
  }
 },
 "nbformat": 4,
 "nbformat_minor": 4
}
