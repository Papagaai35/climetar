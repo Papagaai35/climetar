{
 "cells": [
  {
   "cell_type": "markdown",
   "metadata": {},
   "source": [
    "# Preprocess data\n",
    "In dit script worden de gedownloade METARS geanalyseerd en verwerkt tot numerieke waardes. Deze waardes worden opgeslagen omgezet in `*.metar`-bestanden, die weer gelezen kunnen worden door de klimaat-plot scripts."
   ]
  },
  {
   "cell_type": "markdown",
   "metadata": {},
   "source": [
    "**Instellingen**  \n",
    "Wijzig de `file_patterns` naar wens. Syntax `glob`"
   ]
  },
  {
   "cell_type": "code",
   "execution_count": 1,
   "metadata": {},
   "outputs": [],
   "source": [
    "file_patterns = [\n",
    "    'downloads/*.csv',\n",
    "    'downloads/*.txt'\n",
    "]"
   ]
  },
  {
   "cell_type": "markdown",
   "metadata": {},
   "source": [
    "**Script**  \n",
    "Hieronder zijn wijzingingen in principe niet meer nodig."
   ]
  },
  {
   "cell_type": "code",
   "execution_count": 2,
   "metadata": {},
   "outputs": [
    {
     "name": "stderr",
     "output_type": "stream",
     "text": [
      "\n",
      "Bad key \"text.kerning_factor\" on line 4 in\n",
      "/opt/conda/lib/python3.7/site-packages/matplotlib/mpl-data/stylelib/_classic_test_patch.mplstyle.\n",
      "You probably need to get an updated matplotlibrc file from\n",
      "http://github.com/matplotlib/matplotlib/blob/master/matplotlibrc.template\n",
      "or from the matplotlib source distribution\n"
     ]
    }
   ],
   "source": [
    "import climetar"
   ]
  },
  {
   "cell_type": "code",
   "execution_count": 3,
   "metadata": {},
   "outputs": [
    {
     "name": "stdout",
     "output_type": "stream",
     "text": [
      "downloads/EPSC.txt\n",
      "Parsing downloads/EPSC.txt in 6 chunks of 30000 lines\n",
      "Parsed chunk 1\n",
      "Parsed chunk 2\n",
      "Parsed chunk 3\n",
      "Parsed chunk 4\n",
      "Parsed chunk 5\n",
      "Parsed chunk 6\n",
      "Imported \"downloads/EPSC.txt\"\n"
     ]
    }
   ],
   "source": [
    "# Deze stap duurt ongeveer 2 minuten per chunk. Wees geduldig :P\n",
    "for pattern in file_patterns:\n",
    "    climetar.import_files(pattern)"
   ]
  },
  {
   "cell_type": "markdown",
   "metadata": {},
   "source": [
    "# Vervolg\n",
    "Heb alle data verwerkt? Dan kunnen we de uitvoer gaan genereren. Dat kan met de onderstaande scripts:\n",
    "\n",
    "* [30. Plots.ipynb](30.%20Plots.ipynb) genereert grafiekjes voor gebruik in de JMG Klimaatanalyses\n",
    "* [31. MonthlyPDF.ipynb](31.%20MonthlyPDF.ipynb) genereerd een PDF met het klimaat per maand"
   ]
  },
  {
   "cell_type": "code",
   "execution_count": null,
   "metadata": {},
   "outputs": [],
   "source": []
  }
 ],
 "metadata": {
  "kernelspec": {
   "display_name": "Python 3",
   "language": "python",
   "name": "python3"
  },
  "language_info": {
   "codemirror_mode": {
    "name": "ipython",
    "version": 3
   },
   "file_extension": ".py",
   "mimetype": "text/x-python",
   "name": "python",
   "nbconvert_exporter": "python",
   "pygments_lexer": "ipython3",
   "version": "3.7.4"
  }
 },
 "nbformat": 4,
 "nbformat_minor": 4
}
