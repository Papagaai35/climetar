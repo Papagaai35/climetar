{
 "cells": [
  {
   "cell_type": "markdown",
   "metadata": {},
   "source": [
    "# Installation\n",
    "CliMETAR users some specific packages, that are not available by default. Therefore, you should download and install them before using the other scripts."
   ]
  },
  {
   "cell_type": "markdown",
   "metadata": {},
   "source": [
    "## Cartopy\n",
    "Cartopy is a library for plotting maps. It also handels different projections and handles coordinate systems."
   ]
  },
  {
   "cell_type": "code",
   "execution_count": 1,
   "metadata": {},
   "outputs": [
    {
     "name": "stdout",
     "output_type": "stream",
     "text": [
      "\n",
      "# All requested packages already installed.\n",
      "\n"
     ]
    }
   ],
   "source": [
    "!conda install -qyS cartopy"
   ]
  },
  {
   "cell_type": "markdown",
   "metadata": {},
   "source": [
    "# Data Aquisition"
   ]
  },
  {
   "cell_type": "markdown",
   "metadata": {},
   "source": [
    "## Natural Earth\n",
    "For plotting maps, the Natural Earth dataset is nessesary. Please download the nessesary files, and store them in the `CliMETAR/natural_earth` folder:\n",
    "* [https://www.naturalearthdata.com/http//www.naturalearthdata.com/download/10m/cultural/ne_10m_admin_0_countries.zip]()\n",
    "* [https://www.naturalearthdata.com/http//www.naturalearthdata.com/download/50m/cultural/ne_50m_admin_0_countries.zip]()\n",
    "* [https://www.naturalearthdata.com/http//www.naturalearthdata.com/download/10m/raster/NE1_LR_LC_SR_W_DR.zip]()"
   ]
  },
  {
   "cell_type": "markdown",
   "metadata": {},
   "source": [
    "## Station data\n",
    "Station data is provided in the repository, but should be regularly updated. Use the script below (on a machine with internet access) to regenerate a new file.\n",
    "Store a new file in the `CliMetar/resources` folder"
   ]
  },
  {
   "cell_type": "markdown",
   "metadata": {},
   "source": [
    "```{python}\n",
    "import datetime\n",
    "import json\n",
    "import re\n",
    "import urllib\n",
    "data = {'generated':datetime.datetime.utcnow().strftime('%Y-%m-%d %H:%M:%SZ'),'networks':{}, 'stations':{}}\n",
    "with urllib.request.urlopen(\"https://mesonet.agron.iastate.edu/geojson/networks.geojson\") as response:\n",
    "    networksjson = json.loads(response.read())\n",
    "    for nw in networksjson['features']:\n",
    "        if 'ASOS' in nw['id'] or 'AWOS' in nw['id']:\n",
    "            abbr, name, polygon = nw['id'], nw['properties']['name'], nw['geometry']['coordinates']\n",
    "            data['networks'][abbr] = {'abbr':abbr,'name':name,'polygon':polygon}\n",
    "networklist = list(data['networks'].keys())\n",
    "for i, network in enumerate(networklist):\n",
    "    with urllib.request.urlopen(f\"https://mesonet.agron.iastate.edu/geojson/network/{network}.geojson\") as response:\n",
    "        stationsjson = json.loads(response.read())\n",
    "        for st in stationsjson['features']:\n",
    "            abbr, name, elev, tzname = st['properties']['sid'], st['properties']['sname'], st['properties']['elevation'], st['properties']['tzname']\n",
    "            lat, lon = st['geometry']['coordinates']\n",
    "            data['stations'][abbr] = {'abbr':abbr,'name':name,'timezone':tzname,'latitude':lat,'longitude':lon,'elevation':elev}      \n",
    "with open('stations.json','w') as fh:\n",
    "    json.dump(data,fh)\n",
    "```"
   ]
  },
  {
   "cell_type": "code",
   "execution_count": null,
   "metadata": {},
   "outputs": [],
   "source": []
  }
 ],
 "metadata": {
  "kernelspec": {
   "display_name": "Python 3",
   "language": "python",
   "name": "python3"
  },
  "language_info": {
   "codemirror_mode": {
    "name": "ipython",
    "version": 3
   },
   "file_extension": ".py",
   "mimetype": "text/x-python",
   "name": "python",
   "nbconvert_exporter": "python",
   "pygments_lexer": "ipython3",
   "version": "3.7.4"
  },
  "toc-autonumbering": true,
  "toc-showmarkdowntxt": true
 },
 "nbformat": 4,
 "nbformat_minor": 4
}
