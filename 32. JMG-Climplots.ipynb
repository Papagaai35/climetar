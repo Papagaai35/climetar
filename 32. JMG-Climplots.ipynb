{
 "cells": [
  {
   "cell_type": "markdown",
   "metadata": {},
   "source": [
    "# Yearly Plots\n",
    "In dit script worden de geanalyseerde METARs en SPECIs verwerkt tot klimaatoverzichten, die een beeld geven over het hele jaar. Deze overzichten worden opgeslagen als PNG-bestand"
   ]
  },
  {
   "cell_type": "markdown",
   "metadata": {},
   "source": [
    "**Instellingen**  \n",
    "Wijzig de `stations`, en andere `settings` naar wens."
   ]
  },
  {
   "cell_type": "code",
   "execution_count": null,
   "metadata": {},
   "outputs": [],
   "source": [
    "stations = [\n",
    "    'ENBO'\n",
    "]\n",
    "settings = {\n",
    "    'folder_data': './data',\n",
    "    'folder_output': './results/YearlyPDF',\n",
    "    'theme': './resources/theme2_RHS.json',\n",
    "    'natural_earth_folder': './resources/'\n",
    "}"
   ]
  },
  {
   "cell_type": "markdown",
   "metadata": {},
   "source": [
    "**Script**  \n",
    "Hieronder zijn wijzingingen in principe niet meer nodig."
   ]
  },
  {
   "cell_type": "code",
   "execution_count": null,
   "metadata": {},
   "outputs": [],
   "source": [
    "import climetar"
   ]
  },
  {
   "cell_type": "code",
   "execution_count": null,
   "metadata": {},
   "outputs": [],
   "source": [
    "for station in stations:\n",
    "    mpt = climetar.MetarPlotter(**settings)\n",
    "    mpt.load_data(station)\n",
    "    mpt.filter_minutes_valid(gte=2.5)\n",
    "    mpt.filter_year(gte=2012,lte=2019)\n",
    "    mpt.stations_on_map = stations\n",
    "    mpt.generate_yearly_plots()"
   ]
  },
  {
   "cell_type": "code",
   "execution_count": null,
   "metadata": {},
   "outputs": [],
   "source": []
  }
 ],
 "metadata": {
  "kernelspec": {
   "display_name": "Python 3",
   "language": "python",
   "name": "python3"
  },
  "language_info": {
   "codemirror_mode": {
    "name": "ipython",
    "version": 3
   },
   "file_extension": ".py",
   "mimetype": "text/x-python",
   "name": "python",
   "nbconvert_exporter": "python",
   "pygments_lexer": "ipython3",
   "version": "3.7.4"
  }
 },
 "nbformat": 4,
 "nbformat_minor": 4
}
