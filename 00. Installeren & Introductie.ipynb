{
 "cells": [
  {
   "cell_type": "markdown",
   "metadata": {},
   "source": [
    "Lees eerst de [README.md](README.md) als je dat nog niet gedaan hebt"
   ]
  },
  {
   "cell_type": "markdown",
   "metadata": {},
   "source": [
    "# Voorbereiding\n",
    "CliMETAR gebruikt enkele specifieke python-packages en databestanden, die niet standaard beschikbaar zijn. Daarom moet je deze los instaleren en downloaden. Dit Notebook zorgt daarvoor. \n",
    "Daarnaast geeft dit notebook een korte intro in Jupyter, voor hen die daarmee niet bekend zijn."
   ]
  },
  {
   "cell_type": "markdown",
   "metadata": {},
   "source": [
    "# Gebruik van Jupyter\n",
    "CliMETAR maakt gebruik van Jupyter notebooks. Dit zijn documenten, waarin ook programmercode verwerkt kan worden. Deze documenten kun je openen in Jupyter Lab.\n",
    "\n",
    "In dit deel leggen we uit hoe je met Jupyter omgaat, en hoe je dit kunt gebruiken. Als je al bekent bent met Jupyter, ga dan verder bij Hoofdstuk 2."
   ]
  },
  {
   "cell_type": "markdown",
   "metadata": {},
   "source": [
    "## Jupyter Lab"
   ]
  },
  {
   "cell_type": "markdown",
   "metadata": {},
   "source": [
    "<img src=\"./resources/docs/notebook_ui.png\" style=\"float: left;width:500px;padding-right:10px\" />\n",
    "\n",
    "De interface van Jupyter Lab bestaat uit 3 delen, de menubalk (in groen), de linker zijbalk (in blauw) en het werkgebied (in rood).\n",
    "\n",
    "Het werkgebied heeft (net zoals je browser) tabbladen, waardoor je snel kunt schakelen tussen verschillende notebooks, terminals en andere bestanden. Deze kun je vervolgens bekijken en bewerken in het gele kader.  \n",
    "\n",
    "Linksbovenaan in het werkgebied, onder het eerste tabblad, vind je de Opslaan-knop. Uiteraard werkt <b>Ctrl</b>+<b>S</b> ook."
   ]
  },
  {
   "cell_type": "markdown",
   "metadata": {},
   "source": [
    "<img src=\"./resources/docs/notebook_side.png\" style=\"float:right;width:275px;padding-left:10px;\" />\n",
    "\n",
    "In de linker zijbalk, zie je standaard een bestandslijst. Hierin kun je verschillende bestanden openen, en bladeren tussen de verschillende mappen.\n",
    "\n",
    "Bovenaan vind je o.a. knoppen om bestanden te uploaden (zie 1), en de huidige bestandslijst te vernieuwen (zie 2). Ook zie je (bij 3) welke map je op dit moment bekijkt. Door een map eerder aan te klikken kun je ook weer omhoog in de bestandsstructuur.  \n",
    "\n",
    "Notebook-bestanden herken je aan de extensie `.ipynb`, en het oranje icoontje (4). Een groen puntje voor een notebook bestand betekend dat dat notebook actief is, en er code in gedraaid kan worden."
   ]
  },
  {
   "cell_type": "markdown",
   "metadata": {},
   "source": [
    "## Jupyter Notebook"
   ]
  },
  {
   "cell_type": "markdown",
   "metadata": {},
   "source": [
    "<img src=\"./resources/docs/notebook_content.png\" style=\"float: left;width:500px;padding-right:10px\" />\n",
    "\n",
    "Een Jupyter Notebook zit dus in Jupyter Lab, en bestaat uit verschillende cellen (of tekstvakken). Sommige cellen bevatten documentatie (in groen) en sommige cellen bevatten programeercode (in Paars; meestal in Python).\n",
    "\n",
    "Op een moment is er alijd een cel 'Actief' of geselecteerd. Dat wordt aangegeven met een blauwe balk voor de cel (1). Je kunt een cel actief maken/selecteren door er links naast te klikken.\n",
    "\n",
    "Actieve cellen kunnen gedraaid worden door op <key><b>Shift</b></key> + <key><b>Enter</b></key>. Dit werkt voor alle cellen: codecellen worden uitegevoerd, en documentatiecellen worden opnieuw geformateerd.\n",
    "\n",
    "<key><b>Shift</b></key> + <key><b>Enter</b></key> selecteerd ook meteeen de volgende cel. Door herhadelijk deze toetsencombinatie te gebruiken, kun je dus snel een heel script starten. "
   ]
  },
  {
   "cell_type": "markdown",
   "metadata": {},
   "source": [
    "Code-cellen hebben ook nog een status-indicator (2):  \n",
    " - `[ ]` betekent dat de cel nog gedraaid moet worden\n",
    " - `[*]` betekent dat de code in de cel op dit moment uitgevoegd wordt\n",
    " - `[1]` betekend dat de cel uitgevoerd is. Het cijfer geeft de volgorde aan"
   ]
  },
  {
   "cell_type": "markdown",
   "metadata": {},
   "source": [
    "Als je een fout hebt gemaakt (of tegen een fout aanloopt), en je wil opnieuw beginnen in dat notebook:  \n",
    "Selecteer dan in de menubalk bovenaan <b>Kernel</b> -> <b>Restart Kernel and Clear all outputs</b>"
   ]
  },
  {
   "cell_type": "markdown",
   "metadata": {},
   "source": [
    "# Instalatie van Packages\n",
    "Zoals gezecht, moeten er voor CliMETAR enkele packages geinstallerd te worden.\n",
    "Dit moet iedere keer dat je een virtuele Jupyter-machine opnieuw opstart, opnieuw.\n"
   ]
  },
  {
   "cell_type": "markdown",
   "metadata": {},
   "source": [
    "Selecteer de onderstaande cel, door er links naast te klikken, en druk op <b>Shift</b>+<b>Enter</b>.\n",
    "\n",
    "Deze cel genereerd zeer veel output. Wacht totdat de statusindicator van `[*]` naar `[1]` is veranderd (of een ander getal). Scroll daarna naar beneden voor de rest van het script."
   ]
  },
  {
   "cell_type": "code",
   "execution_count": null,
   "metadata": {},
   "outputs": [],
   "source": [
    "!conda install --yes --quiet --force-reinstall --file requirements.txt"
   ]
  },
  {
   "cell_type": "markdown",
   "metadata": {},
   "source": [
    "Wacht met doorgaan totdat `Executing transaction:` de melding `done` geeft..."
   ]
  },
  {
   "cell_type": "markdown",
   "metadata": {},
   "source": [
    "# Databestanden (optioneel)\n",
    "Ook moeten er enkele databestanden worden gedownload, via Internet op de Werkplek. De meest essentiele bestanden worden standaard meegeleverd, maar kunnen hier ook geupdate worden.\n",
    "\n",
    "Dit alles is volledig optioneel, en hoeft maar één keer te gebeuren.  \n",
    "Als je dit niet nu wil doen, ga dan verder met [10. Downloading METARs.ipynb](10.%20Downloading%20METARs.ipynb) "
   ]
  },
  {
   "cell_type": "markdown",
   "metadata": {},
   "source": [
    "## Download de Achtergrondkaart\n",
    "Om kaarten te plotten, is het soms handig om ook een topografische achtergrond te gebruiken. Echter vanwege de omvang van deze achtergrond wordt deze niet meegeinstallerd met CliMETAR. Deze bestanden moeten los gedownload worden, via Internet, en in de `resources` map geplaatst worden.\n",
    "\n",
    "* [https://www.naturalearthdata.com/http//www.naturalearthdata.com/download/10m/raster/NE1_LR_LC_SR_W_DR.zip](https://www.naturalearthdata.com/http//www.naturalearthdata.com/download/10m/raster/NE1_LR_LC_SR_W_DR.zip)"
   ]
  },
  {
   "cell_type": "markdown",
   "metadata": {},
   "source": [
    "## Update de landsgrenzen\n",
    "De Landsgrenzen van Natural Earth worden wel automatisch gedownload, samen met CliMETAR. Echter, om internationale wijzigingen mee te nemen, moeten deze bestanden af en toe geupdated worden. Dat kan via Internet\n",
    "\n",
    "* [https://www.naturalearthdata.com/http//www.naturalearthdata.com/download/10m/cultural/ne_10m_admin_0_countries.zip]()\n",
    "* [https://www.naturalearthdata.com/http//www.naturalearthdata.com/download/50m/cultural/ne_50m_admin_0_countries.zip]()"
   ]
  },
  {
   "cell_type": "markdown",
   "metadata": {},
   "source": [
    "## Update de Station data\n",
    "Stationsdata is ook opgenomen in het het repository van CliMETAR, maar het is goed deze af en toe te updaten. Het script `resources/renew_stations_geojson.py` draagt daarvoor zorg. Echter dat scipt moet gedraait worden op een computer met internettoegang.\n",
    "\n",
    "Om een nieuw bestand uit de repository te halen, kun je de volgende cell draaien:"
   ]
  },
  {
   "cell_type": "code",
   "execution_count": null,
   "metadata": {},
   "outputs": [],
   "source": [
    "!git fetch > /dev/null 2>&1\n",
    "!git checkout -- resources/stations.geojson"
   ]
  },
  {
   "cell_type": "markdown",
   "metadata": {},
   "source": [
    "# Vervolg\n",
    "Dit script zul je af en toe nodig hebben om de packages opnieuw te instaleren, maar gelukkig blijven bestanden die je eenmaal heb gedownload, blijven behouden.\n",
    "\n",
    "Ga nu verder met [10. Downloading METARs.ipynb](10.%20Downloading%20METARs.ipynb) "
   ]
  },
  {
   "cell_type": "code",
   "execution_count": null,
   "metadata": {},
   "outputs": [],
   "source": []
  }
 ],
 "metadata": {
  "kernelspec": {
   "display_name": "Python 3",
   "language": "python",
   "name": "python3"
  },
  "language_info": {
   "codemirror_mode": {
    "name": "ipython",
    "version": 3
   },
   "file_extension": ".py",
   "mimetype": "text/x-python",
   "name": "python",
   "nbconvert_exporter": "python",
   "pygments_lexer": "ipython3",
   "version": "3.7.4"
  },
  "toc-autonumbering": true,
  "toc-showmarkdowntxt": true
 },
 "nbformat": 4,
 "nbformat_minor": 4
}
