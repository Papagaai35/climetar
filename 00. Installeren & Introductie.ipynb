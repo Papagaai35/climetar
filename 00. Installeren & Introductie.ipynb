{
 "cells": [
  {
   "cell_type": "markdown",
   "metadata": {},
   "source": [
    "Lees eerst de [README.md](README.md) als je dat nog niet gedaan hebt"
   ]
  },
  {
   "cell_type": "markdown",
   "metadata": {},
   "source": [
    "# Voorbereiding\n",
    "CliMETAR gebruikt enkele specifieke python-packages en databestanden, die niet standaard beschikbaar zijn. Daarom moet je deze los instaleren en downloaden. Dit Notebook zorgt daarvoor. \n",
    "Daarnaast geeft dit notebook een korte intro in Jupyter, voor hen die daarmee niet bekend zijn."
   ]
  },
  {
   "cell_type": "markdown",
   "metadata": {},
   "source": [
    "## Gebruik Notebooks\n",
    "Jupyter-bestanden, ook wel notebooks genoemd, bestaan uit cellen. Cellen kunnen verschillende types hebben: Documentatie (als `Markdown`; zoals deze cel), Python-code (als `Code`) of data (als `Raw`). De actieve cel wordt aangegeven met een blauwe balk links van de cel.\n",
    "\n",
    "Alle cellen kun je uitvoeren, bij Markdown cellen wordt dan de tekst geformateerd, en Code cellen worden gedraaid. Druk daarvoor op <key><b>Shift</b></key> + <key><b>Enter</b></key>.\n",
    "\n",
    "Voor meer informatie, zie de onderstaande bronnen:\n",
    "* Jupyter [https://ecshackweek.github.io/tutorial/getting-started-with-jupyter/](ecshackweek.github.io) (Begin bij 3. Creating a new notebook)\n",
    "* Markdown [https://www.datacamp.com/community/tutorials/markdown-in-jupyter-notebook](datacamp.com)"
   ]
  },
  {
   "cell_type": "markdown",
   "metadata": {},
   "source": [
    "# Instalatie van Packages\n",
    "Zoals gezecht, moeten er voor CliMETAR enkele packages geinstallerd te worden.\n",
    "Dit moet iedere keer dat je een Jupyter-machine opnieuw opstart, opnieuw.\n",
    "JIVC sluit ongebruikte machines na 3 dagen automatisch af."
   ]
  },
  {
   "cell_type": "code",
   "execution_count": null,
   "metadata": {},
   "outputs": [],
   "source": [
    "!conda install --quiet --yes --force-reinstall --file requirements.txt "
   ]
  },
  {
   "cell_type": "markdown",
   "metadata": {},
   "source": [
    "# Databestanden\n",
    "Ook moeten er enkele databestanden wroden gedownload, voor CliMETAR. Dit hoeft maar één keer te gebeuren, maar het kan geen kwaad om de bestanden af en toe te updaten."
   ]
  },
  {
   "cell_type": "markdown",
   "metadata": {},
   "source": [
    "## Natural Earth\n",
    "Om kaarten te plotten, is meer nodig dan alleen het coordinatensysteem. Natural Earth zorgt voor bestanden met landsgrenzen en een achtergrond. Deze bestanden moeten gedownload worden, en in de `resources` map geplaatst worden.\n",
    "* [https://www.naturalearthdata.com/http//www.naturalearthdata.com/download/10m/cultural/ne_10m_admin_0_countries.zip]()\n",
    "* [https://www.naturalearthdata.com/http//www.naturalearthdata.com/download/50m/cultural/ne_50m_admin_0_countries.zip]()\n",
    "* [https://www.naturalearthdata.com/http//www.naturalearthdata.com/download/10m/raster/NE1_LR_LC_SR_W_DR.zip]()\n",
    "\n",
    "Natural Earth genereerd periodiek updates om wijzigingen van landsgrenzen mee te nemen."
   ]
  },
  {
   "cell_type": "markdown",
   "metadata": {},
   "source": [
    "## Station data\n",
    "Stationsdata is opgenomen in het het repository, maar moet wel af en toe geupdate worden. Het notebook `A1. Update Station Data.ipynb` draagt daarvoor zorg. Echter dat scipt moet gedraait worden op een computer met internettoegang (en dus niet op MULAN).\n",
    "\n",
    "Om een nieuw bestand uit de repository te halen, kun je de volgende cell draaien:"
   ]
  },
  {
   "cell_type": "code",
   "execution_count": null,
   "metadata": {},
   "outputs": [],
   "source": [
    "!git checkout -- resources/stations.json"
   ]
  },
  {
   "cell_type": "markdown",
   "metadata": {},
   "source": [
    "# Vervolg\n",
    "Dit script zul je af en toe nodig hebben om de packages opnieuw te instaleren, maar gelukkig blijven bestanden die je eenmaal heb gedownload, blijven behouden.\n",
    "\n",
    "Ga nu verder met [10. Downloading METARs.ipynb](10.%20Downloading%20METARs.ipynb) "
   ]
  },
  {
   "cell_type": "code",
   "execution_count": null,
   "metadata": {},
   "outputs": [],
   "source": []
  }
 ],
 "metadata": {
  "kernelspec": {
   "display_name": "Python 3",
   "language": "python",
   "name": "python3"
  },
  "language_info": {
   "codemirror_mode": {
    "name": "ipython",
    "version": 3
   },
   "file_extension": ".py",
   "mimetype": "text/x-python",
   "name": "python",
   "nbconvert_exporter": "python",
   "pygments_lexer": "ipython3",
   "version": "3.7.4"
  },
  "toc-autonumbering": true,
  "toc-showmarkdowntxt": true
 },
 "nbformat": 4,
 "nbformat_minor": 4
}
