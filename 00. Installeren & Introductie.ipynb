{
 "cells": [
  {
   "cell_type": "markdown",
   "metadata": {},
   "source": [
    "Lees eerst de [README.md](README.md) als je dat nog niet gedaan hebt"
   ]
  },
  {
   "cell_type": "markdown",
   "metadata": {},
   "source": [
    "# Voorbereiding\n",
    "CliMETAR gebruikt enkele specifieke python-packages en databestanden, die niet standaard beschikbaar zijn. Daarom moet je deze los instaleren en downloaden. Dit Notebook zorgt daarvoor. \n",
    "Daarnaast geeft dit notebook een korte intro in Jupyter, voor hen die daarmee niet bekend zijn."
   ]
  },
  {
   "cell_type": "markdown",
   "metadata": {},
   "source": [
    "## Gebruik Notebooks\n",
    "Jupyter-bestanden, ook wel notebooks genoemd, bestaan uit cellen. Cellen kunnen verschillende types hebben: Documentatie (als `Markdown`; zoals deze cel), Python-code (als `Code`) of data (als `Raw`). De actieve cel wordt aangegeven met een blauwe balk links van de cel.\n",
    "\n",
    "Alle cellen kun je uitvoeren, bij Markdown cellen wordt dan de tekst geformateerd, en Code cellen worden gedraaid. Druk daarvoor op <key><b>Shift</b></key> + <key><b>Enter</b></key>.\n",
    "\n",
    "Voor meer informatie, zie de onderstaande bronnen:\n",
    "* Jupyter [https://ecshackweek.github.io/tutorial/getting-started-with-jupyter/](ecshackweek.github.io) (Begin bij 3. Creating a new notebook)\n",
    "* Markdown [https://www.datacamp.com/community/tutorials/markdown-in-jupyter-notebook](datacamp.com)"
   ]
  },
  {
   "cell_type": "markdown",
   "metadata": {},
   "source": [
    "# Instalatie van Packages\n",
    "Zoals gezecht, moeten er voor CliMETAR enkele packages geinstallerd te worden.\n",
    "Dit moet iedere keer dat je een Jupyter-machine opnieuw opstart, opnieuw.\n",
    "JIVC sluit ongebruikte machines na 3 dagen automatisch af."
   ]
  },
  {
   "cell_type": "markdown",
   "metadata": {},
   "source": [
    "## Matplotlib\n",
    "Matplotlib is een package dat grafieken en kaarten kan plotten. De versie die standaard geinstallerd staat is echter niet geheel stabiel. Een update is daarom aan te raden."
   ]
  },
  {
   "cell_type": "code",
   "execution_count": 3,
   "metadata": {},
   "outputs": [
    {
     "name": "stdout",
     "output_type": "stream",
     "text": [
      "Collecting package metadata (repodata.json): ...working... done\n",
      "Solving environment: ...working... \n",
      "Warning: >10 possible package resolutions (only showing differing packages):\n",
      "  - defaults/linux-64::cryptography-2.8-py37h1ba5d50_0, defaults/linux-64::pycparser-2.19-py37_0, defaults/linux-64::pysocks-1.7.1-py37_0, defaults/linux-64::yaml-0.1.7-had09818_2\n",
      "  - defaults/linux-64::cryptography-2.8-py37h1ba5d50_0, defaults/linux-64::pycparser-2.19-py37_0, defaults/linux-64::pysocks-1.7.1-py37_0, main/linux-64::yaml-0.1.7-had09818_2\n",
      "  - defaults/linux-64::cryptography-2.8-py37h1ba5d50_0, defaults/linux-64::pysocks-1.7.1-py37_0, defaults/linux-64::yaml-0.1.7-had09818_2, main/linux-64::pycparser-2.19-py37_0\n",
      "  - defaults/linux-64::cryptography-2.8-py37h1ba5d50_0, defaults/linux-64::pysocks-1.7.1-py37_0, main/linux-64::pycparser-2.19-py37_0, main/linux-64::yaml-0.1.7-had09818_2\n",
      "  - defaults/linux-64::cryptography-2.8-py37h1ba5d50_0, defaults/linux-64::yaml-0.1.7-had09818_2, main/linux-64::pycparser-2.19-py37_0, main/linux-64::pysocks-1.7.1-py37_0\n",
      "  - defaults/linux-64::cryptography-2.8-py37h1ba5d50_0, main/linux-64::pycparser-2.19-py37_0, main/linux-64::pysocks-1.7.1-py37_0, main/linux-64::yaml-0.1.7-had09818_2\n",
      "  - defaults/linux-64::cryptography-2.8-py37h1ba5d50_0, defaults/linux-64::pycparser-2.19-py37_0, defaults/linux-64::yaml-0.1.7-had09818_2, main/linux-64::pysocks-1.7.1-py37_0\n",
      "  - defaults/linux-64::cryptography-2.8-py37h1ba5d50_0, defaults/linux-64::pycparser-2.19-py37_0, main/linux-64::pysocks-1.7.1-py37_0, main/linux-64::yaml-0.1.7-had09818_2\n",
      "  - defaults/linux-64::pycparser-2.19-py37_0, defaults/linux-64::yaml-0.1.7-had09818_2, main/linux-64::cryptography-2.8-py37h1ba5d50_0, main/linux-64::pysocks-1.7.1-py37_0\n",
      "  - defaults/linux-64::pycparser-2.19-py37_0, defaults/linux-64::pysocks-1.7.1-py37_0, defaults/linux-64::yaml-0.1.7-had09818_2, main/linux-64::cryptography-2.8-py37h1ba5d50_0\n",
      "  ... and othersdone\n",
      "\n",
      "# All requested packages already installed.\n",
      "\n"
     ]
    }
   ],
   "source": [
    "!conda upgrade -qy matplotlib"
   ]
  },
  {
   "cell_type": "markdown",
   "metadata": {},
   "source": [
    "## Cartopy\n",
    "Cartopy is een package/library om kaarten te maken in python. Caropy zorgt ervoor dat coordinaten juist worden behandeld, en zorgt voor verschillende kaartprojecties."
   ]
  },
  {
   "cell_type": "code",
   "execution_count": null,
   "metadata": {},
   "outputs": [
    {
     "name": "stdout",
     "output_type": "stream",
     "text": [
      "Collecting package metadata (repodata.json): ...working... done\n",
      "Solving environment: ...working... \n",
      "Warning: >10 possible package resolutions (only showing differing packages):\n",
      "  - defaults/linux-64::chardet-3.0.4-py37_1003, defaults/linux-64::pycparser-2.19-py37_0, defaults/linux-64::pysocks-1.7.1-py37_0, defaults/linux-64::yaml-0.1.7-had09818_2\n",
      "  - defaults/linux-64::chardet-3.0.4-py37_1003, defaults/linux-64::pycparser-2.19-py37_0, defaults/linux-64::yaml-0.1.7-had09818_2, main/linux-64::pysocks-1.7.1-py37_0\n",
      "  - defaults/linux-64::chardet-3.0.4-py37_1003, defaults/linux-64::pysocks-1.7.1-py37_0, defaults/linux-64::yaml-0.1.7-had09818_2, main/linux-64::pycparser-2.19-py37_0\n",
      "  - defaults/linux-64::chardet-3.0.4-py37_1003, defaults/linux-64::yaml-0.1.7-had09818_2, main/linux-64::pycparser-2.19-py37_0, main/linux-64::pysocks-1.7.1-py37_0\n",
      "  - defaults/linux-64::chardet-3.0.4-py37_1003, defaults/linux-64::pysocks-1.7.1-py37_0, main/linux-64::pycparser-2.19-py37_0, main/linux-64::yaml-0.1.7-had09818_2\n",
      "  - defaults/linux-64::chardet-3.0.4-py37_1003, main/linux-64::pycparser-2.19-py37_0, main/linux-64::pysocks-1.7.1-py37_0, main/linux-64::yaml-0.1.7-had09818_2\n",
      "  - defaults/linux-64::chardet-3.0.4-py37_1003, defaults/linux-64::pycparser-2.19-py37_0, defaults/linux-64::pysocks-1.7.1-py37_0, main/linux-64::yaml-0.1.7-had09818_2\n",
      "  - defaults/linux-64::chardet-3.0.4-py37_1003, defaults/linux-64::pycparser-2.19-py37_0, main/linux-64::pysocks-1.7.1-py37_0, main/linux-64::yaml-0.1.7-had09818_2\n",
      "  - defaults/linux-64::pycparser-2.19-py37_0, defaults/linux-64::pysocks-1.7.1-py37_0, main/linux-64::chardet-3.0.4-py37_1003, main/linux-64::yaml-0.1.7-had09818_2\n",
      "  - defaults/linux-64::pycparser-2.19-py37_0, defaults/linux-64::pysocks-1.7.1-py37_0, defaults/linux-64::yaml-0.1.7-had09818_2, main/linux-64::chardet-3.0.4-py37_1003\n",
      "  ... and othersdone\n",
      "\n",
      "## Package Plan ##\n",
      "\n",
      "  environment location: /opt/conda\n",
      "\n",
      "  added / updated specs:\n",
      "    - cartopy\n",
      "\n",
      "\n",
      "The following packages will be downloaded:\n",
      "\n",
      "    package                    |            build\n",
      "    ---------------------------|-----------------\n",
      "    asn1crypto-1.3.0           |           py37_0         162 KB  main\n",
      "    blas-1.0                   |              mkl           6 KB  main\n",
      "    cartopy-0.17.0             |   py37hbb7e04d_1         1.8 MB  main\n",
      "    cffi-1.13.2                |   py37h2e261b9_0         225 KB  main\n",
      "    cycler-0.10.0              |           py37_0          13 KB  main\n",
      "    dbus-1.13.12               |       h746ee38_0         611 KB  main\n",
      "    expat-2.2.6                |       he6710b0_0         187 KB  main\n",
      "    fontconfig-2.13.0          |       h9420a91_0         291 KB  main\n",
      "    freetype-2.9.1             |       h8a8886c_1         822 KB  main\n",
      "    geos-3.7.1                 |       he6710b0_0         1.6 MB  main\n",
      "    glib-2.63.1                |       h5a9c865_0         3.4 MB  main\n",
      "    gst-plugins-base-1.14.0    |       hbbd80ab_1         6.3 MB  main\n",
      "    gstreamer-1.14.0           |       hb453b48_1         3.8 MB  main\n",
      "    icu-58.2                   |       h9c2bf20_1        22.5 MB  main\n",
      "    intel-openmp-2019.4        |              243         876 KB  main\n",
      "    jpeg-9b                    |       h024ee3a_2         248 KB  main\n",
      "    kiwisolver-1.1.0           |   py37he6710b0_0          90 KB  main\n",
      "    libgfortran-ng-7.3.0       |       hdf63c60_0         1.3 MB  main\n",
      "    libpng-1.6.37              |       hbc83047_0         364 KB  main\n",
      "    libtiff-4.1.0              |       h2733197_0         589 KB  main\n",
      "    libuuid-1.0.3              |       h1bed415_2          16 KB  main\n",
      "    libxcb-1.13                |       h1bed415_1         502 KB  main\n",
      "    libxml2-2.9.9              |       hea5a465_1         2.0 MB  main\n",
      "    libxslt-1.1.33             |       h7d1a2b0_0         577 KB  main\n",
      "    lxml-4.4.2                 |   py37hefd8a0e_0         1.6 MB  main\n",
      "    matplotlib-3.1.1           |   py37h5429711_0         6.7 MB  main\n",
      "    mkl-2019.4                 |              243       204.1 MB  main\n",
      "    mkl-service-2.3.0          |   py37he904b0f_0         208 KB  main\n",
      "    mkl_fft-1.0.15             |   py37ha843d7b_0         172 KB  main\n",
      "    mkl_random-1.1.0           |   py37hd6b4f25_0         376 KB  main\n",
      "    numpy-1.17.4               |   py37hc1035e2_0           4 KB  main\n",
      "    numpy-base-1.17.4          |   py37hde5b4d6_0         5.2 MB  main\n",
      "    olefile-0.46               |           py37_0          48 KB  main\n",
      "    owslib-0.18.0              |             py_0         128 KB  main\n",
      "    pcre-8.43                  |       he6710b0_0         260 KB  main\n",
      "    pillow-7.0.0               |   py37hb39fc2d_0         657 KB  main\n",
      "    proj4-5.2.0                |       he6710b0_1         7.0 MB  main\n",
      "    pycosat-0.6.3              |   py37h7b6447c_0         107 KB  main\n",
      "    pyepsg-0.4.0               |           py37_0          24 KB  main\n",
      "    pykdtree-1.3.1             |   py37hdd07704_2          65 KB  main\n",
      "    pyopenssl-19.1.0           |           py37_0          87 KB  main\n",
      "    pyparsing-2.4.6            |             py_0          64 KB  main\n",
      "    pyproj-1.9.6               |   py37h14380d9_0          76 KB  main\n",
      "    pyqt-5.9.2                 |   py37h05f1152_2         5.6 MB  main\n",
      "    pyshp-2.1.0                |             py_0          34 KB  main\n",
      "    python-dateutil-2.8.1      |             py_0         224 KB  main\n",
      "    pytz-2019.3                |             py_0         231 KB  main\n",
      "    qt-5.9.7                   |       h5867ecd_1        85.9 MB  main\n",
      "    requests-2.22.0            |           py37_1          90 KB  main\n",
      "    ruamel_yaml-0.15.87        |   py37h7b6447c_0         271 KB  main\n",
      "    scipy-1.3.2                |   py37h7c811a0_0        18.1 MB  main\n",
      "    setuptools-44.0.0          |           py37_0         653 KB  main\n",
      "    shapely-1.6.4              |   py37h86c5351_0         319 KB  main\n",
      "    sip-4.19.8                 |   py37hf484d3e_0         290 KB  main\n",
      "    six-1.13.0                 |           py37_0          27 KB  main\n",
      "    sqlite-3.30.1              |       h7b6447c_0         1.9 MB  main\n",
      "    tornado-6.0.3              |   py37h7b6447c_0         644 KB  main\n",
      "    tqdm-4.41.1                |             py_0          54 KB  main\n",
      "    urllib3-1.25.7             |           py37_0         165 KB  main\n",
      "    zstd-1.3.7                 |       h0b5b093_0         887 KB  main\n",
      "    ------------------------------------------------------------\n",
      "                                           Total:       390.1 MB\n",
      "\n",
      "The following NEW packages will be INSTALLED:\n",
      "\n",
      "  blas               main/linux-64::blas-1.0-mkl\n",
      "  cartopy            main/linux-64::cartopy-0.17.0-py37hbb7e04d_1\n",
      "  cycler             main/linux-64::cycler-0.10.0-py37_0\n",
      "  dbus               main/linux-64::dbus-1.13.12-h746ee38_0\n",
      "  expat              main/linux-64::expat-2.2.6-he6710b0_0\n",
      "  fontconfig         main/linux-64::fontconfig-2.13.0-h9420a91_0\n",
      "  freetype           main/linux-64::freetype-2.9.1-h8a8886c_1\n",
      "  geos               main/linux-64::geos-3.7.1-he6710b0_0\n",
      "  glib               main/linux-64::glib-2.63.1-h5a9c865_0\n",
      "  gst-plugins-base   main/linux-64::gst-plugins-base-1.14.0-hbbd80ab_1\n",
      "  gstreamer          main/linux-64::gstreamer-1.14.0-hb453b48_1\n",
      "  icu                main/linux-64::icu-58.2-h9c2bf20_1\n",
      "  intel-openmp       main/linux-64::intel-openmp-2019.4-243\n",
      "  jpeg               main/linux-64::jpeg-9b-h024ee3a_2\n",
      "  kiwisolver         main/linux-64::kiwisolver-1.1.0-py37he6710b0_0\n",
      "  libgfortran-ng     main/linux-64::libgfortran-ng-7.3.0-hdf63c60_0\n",
      "  libpng             main/linux-64::libpng-1.6.37-hbc83047_0\n",
      "  libtiff            main/linux-64::libtiff-4.1.0-h2733197_0\n",
      "  libuuid            main/linux-64::libuuid-1.0.3-h1bed415_2\n",
      "  libxcb             main/linux-64::libxcb-1.13-h1bed415_1\n",
      "  libxml2            main/linux-64::libxml2-2.9.9-hea5a465_1\n",
      "  libxslt            main/linux-64::libxslt-1.1.33-h7d1a2b0_0\n",
      "  lxml               main/linux-64::lxml-4.4.2-py37hefd8a0e_0\n",
      "  matplotlib         main/linux-64::matplotlib-3.1.1-py37h5429711_0\n",
      "  mkl                main/linux-64::mkl-2019.4-243\n",
      "  mkl-service        main/linux-64::mkl-service-2.3.0-py37he904b0f_0\n",
      "  mkl_fft            main/linux-64::mkl_fft-1.0.15-py37ha843d7b_0\n",
      "  mkl_random         main/linux-64::mkl_random-1.1.0-py37hd6b4f25_0\n",
      "  numpy              main/linux-64::numpy-1.17.4-py37hc1035e2_0\n",
      "  numpy-base         main/linux-64::numpy-base-1.17.4-py37hde5b4d6_0\n",
      "  olefile            main/linux-64::olefile-0.46-py37_0\n",
      "  owslib             main/noarch::owslib-0.18.0-py_0\n",
      "  pcre               main/linux-64::pcre-8.43-he6710b0_0\n",
      "  pillow             main/linux-64::pillow-7.0.0-py37hb39fc2d_0\n",
      "  proj4              main/linux-64::proj4-5.2.0-he6710b0_1\n",
      "  pyepsg             main/linux-64::pyepsg-0.4.0-py37_0\n",
      "  pykdtree           main/linux-64::pykdtree-1.3.1-py37hdd07704_2\n",
      "  pyparsing          main/noarch::pyparsing-2.4.6-py_0\n",
      "  pyproj             main/linux-64::pyproj-1.9.6-py37h14380d9_0\n",
      "  pyqt               main/linux-64::pyqt-5.9.2-py37h05f1152_2\n",
      "  pyshp              main/noarch::pyshp-2.1.0-py_0\n",
      "  python-dateutil    main/noarch::python-dateutil-2.8.1-py_0\n",
      "  pytz               main/noarch::pytz-2019.3-py_0\n",
      "  qt                 main/linux-64::qt-5.9.7-h5867ecd_1\n",
      "  scipy              main/linux-64::scipy-1.3.2-py37h7c811a0_0\n",
      "  shapely            main/linux-64::shapely-1.6.4-py37h86c5351_0\n",
      "  sip                main/linux-64::sip-4.19.8-py37hf484d3e_0\n",
      "  tornado            main/linux-64::tornado-6.0.3-py37h7b6447c_0\n",
      "  zstd               main/linux-64::zstd-1.3.7-h0b5b093_0\n",
      "\n",
      "The following packages will be REMOVED:\n",
      "\n",
      "  pip-19.3.1-py37_0\n",
      "  wheel-0.33.6-py37_0\n",
      "\n",
      "The following packages will be UPDATED:\n",
      "\n",
      "  asn1crypto             pkgs/main::asn1crypto-1.2.0-py37_0 --> main::asn1crypto-1.3.0-py37_0\n",
      "  cffi                pkgs/main::cffi-1.13.0-py37h2e261b9_0 --> main::cffi-1.13.2-py37h2e261b9_0\n",
      "  pyopenssl              pkgs/main::pyopenssl-19.0.0-py37_0 --> main::pyopenssl-19.1.0-py37_0\n",
      "  requests                pkgs/main::requests-2.22.0-py37_0 --> main::requests-2.22.0-py37_1\n",
      "  ruamel_yaml        pkgs/main::ruamel_yaml-0.15.46-py37h1~ --> main::ruamel_yaml-0.15.87-py37h7b6447c_0\n",
      "  setuptools            pkgs/main::setuptools-41.4.0-py37_0 --> main::setuptools-44.0.0-py37_0\n",
      "  six                          pkgs/main::six-1.12.0-py37_0 --> main::six-1.13.0-py37_0\n",
      "  sqlite                pkgs/main::sqlite-3.30.0-h7b6447c_0 --> main::sqlite-3.30.1-h7b6447c_0\n",
      "  tqdm                          pkgs/main::tqdm-4.36.1-py_0 --> main::tqdm-4.41.1-py_0\n",
      "  urllib3                  pkgs/main::urllib3-1.24.2-py37_0 --> main::urllib3-1.25.7-py37_0\n",
      "\n",
      "The following packages will be SUPERSEDED by a higher-priority channel:\n",
      "\n",
      "  pycosat            pkgs/main::pycosat-0.6.3-py37h14c3975~ --> main::pycosat-0.6.3-py37h7b6447c_0\n",
      "\n",
      "\n",
      "Preparing transaction: ...working... done\n",
      "Verifying transaction: ...working... done\n",
      "Executing transaction: ...working... "
     ]
    }
   ],
   "source": [
    "!conda install -qyS cartopy"
   ]
  },
  {
   "cell_type": "markdown",
   "metadata": {},
   "source": [
    "# Databestanden\n",
    "Ook moeten er enkele databestanden wroden gedownload, voor CliMETAR. Dit hoeft maar één keer te gebeuren, maar het kan geen kwaad om de bestanden af en toe te updaten."
   ]
  },
  {
   "cell_type": "markdown",
   "metadata": {},
   "source": [
    "## Natural Earth\n",
    "Om kaarten te plotten, is meer nodig dan alleen het coordinatensysteem. Natural Earth zorgt voor bestanden met landsgrenzen en een achtergrond. Deze bestanden moeten gedownload worden, en in de `resources` map geplaatst worden.\n",
    "* [https://www.naturalearthdata.com/http//www.naturalearthdata.com/download/10m/cultural/ne_10m_admin_0_countries.zip]()\n",
    "* [https://www.naturalearthdata.com/http//www.naturalearthdata.com/download/50m/cultural/ne_50m_admin_0_countries.zip]()\n",
    "* [https://www.naturalearthdata.com/http//www.naturalearthdata.com/download/10m/raster/NE1_LR_LC_SR_W_DR.zip]()\n",
    "\n",
    "Natural Earth genereerd periodiek updates om wijzigingen van landsgrenzen mee te nemen."
   ]
  },
  {
   "cell_type": "markdown",
   "metadata": {},
   "source": [
    "## Station data\n",
    "Stationsdata is opgenomen in het het repository, maar moet wel af en toe geupdate worden. Het notebook `A1. Update Station Data.ipynb` draagt daarvoor zorg. Echter dat scipt moet gedraait worden op een computer met internettoegang (en dus niet op MULAN).\n",
    "\n",
    "Om een nieuw bestand uit de repository te halen, kun je de volgende cell draaien:"
   ]
  },
  {
   "cell_type": "code",
   "execution_count": 7,
   "metadata": {},
   "outputs": [],
   "source": [
    "!git checkout -- resources/stations.json"
   ]
  },
  {
   "cell_type": "markdown",
   "metadata": {},
   "source": [
    "# Vervolg\n",
    "Dit script zul je af en toe nodig hebben om de packages opnieuw te instaleren, maar gelukkig blijven bestanden die je eenmaal heb gedownload, blijven behouden.\n",
    "\n",
    "Ga nu verder met [10. Downloading METARs.ipynb](10.%20Downloading%20METARs.ipynb) "
   ]
  },
  {
   "cell_type": "code",
   "execution_count": null,
   "metadata": {},
   "outputs": [],
   "source": []
  }
 ],
 "metadata": {
  "kernelspec": {
   "display_name": "Python 3",
   "language": "python",
   "name": "python3"
  },
  "language_info": {
   "codemirror_mode": {
    "name": "ipython",
    "version": 3
   },
   "file_extension": ".py",
   "mimetype": "text/x-python",
   "name": "python",
   "nbconvert_exporter": "python",
   "pygments_lexer": "ipython3",
   "version": "3.7.4"
  },
  "toc-autonumbering": true,
  "toc-showmarkdowntxt": true
 },
 "nbformat": 4,
 "nbformat_minor": 4
}
