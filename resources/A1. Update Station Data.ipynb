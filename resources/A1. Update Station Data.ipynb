{
 "cells": [
  {
   "cell_type": "markdown",
   "metadata": {},
   "source": [
    "Dit notebook vernieuwd `stations.json`.\n",
    "\n",
    "Hiervoor is een internetverbinding vereist (en dit script kan dus **niet** op MULAN gedraaid worden)"
   ]
  },
  {
   "cell_type": "code",
   "execution_count": null,
   "metadata": {},
   "outputs": [],
   "source": [
    "import datetime\n",
    "import json\n",
    "import re\n",
    "import urllib"
   ]
  },
  {
   "cell_type": "code",
   "execution_count": null,
   "metadata": {},
   "outputs": [],
   "source": [
    "internet_access = False\n",
    "try:\n",
    "    r = urllib.request.urlopen(\"https://mesonet.agron.iastate.edu/geojson/networks.geojson\")\n",
    "    internet_access = True\n",
    "    r.close()\n",
    "except urllib.error.URLError as e:\n",
    "    print(\"Could not connect to the Iowa State University - Environmetal Mesonet.\")\n",
    "    print(\"Please check if you are connected to the internet!\")\n",
    "    raise e from None\n",
    "\n",
    "if internet_access:\n",
    "    data = {'generated':datetime.datetime.utcnow().strftime('%Y-%m-%d %H:%M:%SZ'),'networks':{}, 'stations':{}}\n",
    "    with urllib.request.urlopen(\"https://mesonet.agron.iastate.edu/geojson/networks.geojson\") as response:\n",
    "        networksjson = json.loads(response.read())\n",
    "        for nw in networksjson['features']:\n",
    "            if 'ASOS' in nw['id'] or 'AWOS' in nw['id']:\n",
    "                abbr, name, polygon = nw['id'], nw['properties']['name'], nw['geometry']['coordinates']\n",
    "                data['networks'][abbr] = {'abbr':abbr,'name':name,'polygon':polygon}\n",
    "    networklist = list(data['networks'].keys())\n",
    "    for i, network in enumerate(networklist):\n",
    "        with urllib.request.urlopen(f\"https://mesonet.agron.iastate.edu/geojson/network/{network}.geojson\") as response:\n",
    "            stationsjson = json.loads(response.read())\n",
    "            for st in stationsjson['features']:\n",
    "                abbr, name, elev, tzname = st['properties']['sid'], st['properties']['sname'], st['properties']['elevation'], st['properties']['tzname']\n",
    "                lat, lon = st['geometry']['coordinates']\n",
    "                data['stations'][abbr] = {'abbr':abbr,'name':name,'timezone':tzname,'latitude':lat,'longitude':lon,'elevation':elev}      \n",
    "    with open('stations.json','w') as fh:\n",
    "        json.dump(data,fh)"
   ]
  },
  {
   "cell_type": "code",
   "execution_count": null,
   "metadata": {},
   "outputs": [],
   "source": []
  }
 ],
 "metadata": {
  "kernelspec": {
   "display_name": "Python 3",
   "language": "python",
   "name": "python3"
  },
  "language_info": {
   "codemirror_mode": {
    "name": "ipython",
    "version": 3
   },
   "file_extension": ".py",
   "mimetype": "text/x-python",
   "name": "python",
   "nbconvert_exporter": "python",
   "pygments_lexer": "ipython3",
   "version": "3.7.4"
  }
 },
 "nbformat": 4,
 "nbformat_minor": 4
}
