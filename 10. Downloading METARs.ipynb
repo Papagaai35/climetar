{
 "cells": [
  {
   "cell_type": "markdown",
   "metadata": {},
   "source": [
    "# Downloading data\n",
    "In dit script wordt gedefineerd welke stations gedownload moeten worden, en wordt de link voor de download opgehaald.\n",
    "\n",
    "Maar je kunt ook handmatig de data downloaden, rechtstreeks van de website van Iowa State university. Gebruik daarvoor [1.2 Handmatig downloaden](#manual)."
   ]
  },
  {
   "cell_type": "markdown",
   "metadata": {},
   "source": [
    "## Geautomatiseerd downloaden\n",
    "Dit script genereerd automatisch de juiste URL waar de METARs te downloaden zijn, en als er een internetverbinding is download dit script ook automatisch de data."
   ]
  },
  {
   "cell_type": "markdown",
   "metadata": {},
   "source": [
    "**Instellingen**  \n",
    "In de onderstaande cel vind je een paar instellingen:\n",
    "* `stations` is een lijst van ICAO-vliegveldcodes. Je vind deze codes vaak op de wikipediapagina van het vliegveld.\n",
    "* `start_datum` en `eind_datum` geven de periode waarover de data gedownload moet worden. Kies (bij voorkeur) datareeksen vanaf 1 januari t/m 1 januari (bijvoorbeeld `start_datum = \"2015-01-01\"` en `eind_datum = \"2021-01-01\"`) \n",
    "\n",
    "Nadat je de instellingen hebt aangepast, kun je de cel draaien met <b>Shift</b>+<b>Enter</b>."
   ]
  },
  {
   "cell_type": "code",
   "execution_count": 3,
   "metadata": {},
   "outputs": [],
   "source": [
    "stations = [\n",
    "    'EHAM' #voer hier de ICAO van het station in\n",
    "]\n",
    "start_datum = \"2010-01-01\"\n",
    "eind_datum = \"2021-01-01\""
   ]
  },
  {
   "cell_type": "markdown",
   "metadata": {},
   "source": [
    "**Script**   \n",
    "Hieronder zijn wijzingingen in principe niet meer nodig. Daai alle cellen door op <b>Shfit</b>+<b>Enter</b> te drukken."
   ]
  },
  {
   "cell_type": "code",
   "execution_count": 4,
   "metadata": {},
   "outputs": [],
   "source": [
    "import climetar"
   ]
  },
  {
   "cell_type": "code",
   "execution_count": 5,
   "metadata": {},
   "outputs": [
    {
     "data": {
      "text/html": [
       "\n",
       "Geen internet verbinding detected.<br />\n",
       "Download het bestand van de volgende website, en sla deze op in de map <code>downloads/</code><br />\n",
       "De download kan enkele minuten duren.<br />\n",
       "<a href=\"https://mesonet.agron.iastate.edu/cgi-bin/request/asos.py?station=EHAM&year1=2010&month1=1&day1=1&year2=2021&month2=1&day2=1&data=metar&tz=Etc%2FUTC&format=onlycomma&latlon=no&elev=no&missing=M&trace=T&direct=yes&report_type=1&report_type=2\">https://mesonet.agron.iastate.edu/cgi-bin/request/asos.py?station=EHAM&year1=2010&month1=1&day1=1&year2=2021&month2=1&day2=1&data=metar&tz=Etc%2FUTC&format=onlycomma&latlon=no&elev=no&missing=M&trace=T&direct=yes&report_type=1&report_type=2</a>"
      ],
      "text/plain": [
       "<IPython.core.display.HTML object>"
      ]
     },
     "metadata": {},
     "output_type": "display_data"
    }
   ],
   "source": [
    "mf = climetar.MetarFetcher(stations,start_datum,eind_datum)\n",
    "if mf.all_stations_exsist():\n",
    "    mf.download()\n",
    "else:\n",
    "    mf.show_alternatives()"
   ]
  },
  {
   "cell_type": "markdown",
   "metadata": {},
   "source": [
    "<b>&nbsp;</b>\n",
    "\n",
    "Heb je alle data gedownload? Dan kun je verder met de analyse van de METARs.\n",
    "\n",
    "Ga verder met [20. PreProcess Data.ipynb](20.%20PreProcess%20Data.ipynb)\n",
    "\n",
    "Download je de data liever met de hand?, ga dan hieronder verder met  [1.2 Handmatig downloaden](#manual)"
   ]
  },
  {
   "cell_type": "markdown",
   "metadata": {},
   "source": [
    "<a id=\"manual\"></a>"
   ]
  },
  {
   "cell_type": "markdown",
   "metadata": {},
   "source": [
    "## Handmatig downloaden\n",
    "De METAR berichten kunnen ook handmatig gedownload worden, via de website van Iowa State Univesity. Ga daarvoor naar [https://mesonet.agron.iastate.edu/request/download.phtml]() en maar gebruik van de volgende opties:\n",
    "\n",
    "1) Select Station/Network by clicking on location\n",
    "> * Kies eventueel eerst bij Select Network het juiste gebied (land/staat/provincie).  \n",
    "> * Selecteerd de juiste stations.\n",
    "\n",
    "2) Select From Available Data  \n",
    "> * Kies voor `All Available` of `Raw METAR`  \n",
    "\n",
    "3) Specific Date Range  \n",
    "> * Kies datareeksen vanaf 1 januari t/m 1 januari  \n",
    "> (bijvoorbeeld Start: 2015 January 01, End: 2021 January 01)  \n",
    "\n",
    "4) Timezone of Observation Times  \n",
    "> * `Coordinated Universal Time (UTC)`  \n",
    "\n",
    "5) Download options  \n",
    "> * Data Format: `Comma Delimited (No DEBUG headers)`  \n",
    "> * Include Latitude + Longitude? `No`  \n",
    "> * Include Elevation (meters)? `No`  \n",
    "> * How to represent missing data? `Use 'M'`  \n",
    "> * How to represent Trace reports? `Use 'T'`  \n",
    "> * `Save result data to file on computer`  \n",
    "\n",
    "6) Limit Report Types  \n",
    "> * Kies beide, `MADIS HFMETAR` en `Routine + SPECIals`  \n",
    "\n",
    "7) Finaly, get Data  \n",
    "> * `Get Data`\n",
    "\n",
    "\n",
    "Sla het resulterende bestand op in `downloads/asos.txt`"
   ]
  },
  {
   "cell_type": "markdown",
   "metadata": {},
   "source": [
    "# Vervolg\n",
    "Heb je alle data gedownload? Dan kun je verder met de analyse van de METARs.\n",
    "\n",
    "Ga verder met [20. PreProcess Data.ipynb](20.%20PreProcess%20Data.ipynb) "
   ]
  },
  {
   "cell_type": "code",
   "execution_count": null,
   "metadata": {},
   "outputs": [],
   "source": []
  }
 ],
 "metadata": {
  "kernelspec": {
   "display_name": "Python 3",
   "language": "python",
   "name": "python3"
  },
  "language_info": {
   "codemirror_mode": {
    "name": "ipython",
    "version": 3
   },
   "file_extension": ".py",
   "mimetype": "text/x-python",
   "name": "python",
   "nbconvert_exporter": "python",
   "pygments_lexer": "ipython3",
   "version": "3.7.4"
  }
 },
 "nbformat": 4,
 "nbformat_minor": 4
}
