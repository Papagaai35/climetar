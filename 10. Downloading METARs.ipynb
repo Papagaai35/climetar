{
 "cells": [
  {
   "cell_type": "markdown",
   "metadata": {},
   "source": [
    "# Downloading data\n",
    "In dit script wordt gedefineerd welke stations gedownload moeten worden, en wordt de link voor de download opgehaald."
   ]
  },
  {
   "cell_type": "markdown",
   "metadata": {},
   "source": [
    "## Geautomatiseerd downloaden\n",
    "Dit script genereerd automatisch de juiste URL waar de METARs te downloaden zijn.\n",
    "\n",
    "**Instellingen**  \n",
    "Wijzig de onderstaande variablen naar wens. Kies (bij voorkeur) datareeksen vanaf 1 januari t/m 1 januari (bijvoorbeeld `start_datum = \"2015-01-01\"` en `eind_datum = \"2021-01-01\"`)  "
   ]
  },
  {
   "cell_type": "code",
   "execution_count": 1,
   "metadata": {},
   "outputs": [],
   "source": [
    "stations = [\n",
    "    'LSF', 'ORER', 'ETHC'\n",
    "]\n",
    "start_datum = \"2010-01-01\"\n",
    "eind_datum = \"2021-01-01\""
   ]
  },
  {
   "cell_type": "markdown",
   "metadata": {},
   "source": [
    "**Script**  \n",
    "Hieronder zijn wijzingingen in principe niet meer nodig."
   ]
  },
  {
   "cell_type": "code",
   "execution_count": 2,
   "metadata": {},
   "outputs": [],
   "source": [
    "from climetar.fetchmetar import MetarFetcher"
   ]
  },
  {
   "cell_type": "code",
   "execution_count": 3,
   "metadata": {},
   "outputs": [],
   "source": [
    "mf = MetarFetcher(stations,start_datum,eind_datum)"
   ]
  },
  {
   "cell_type": "code",
   "execution_count": 4,
   "metadata": {},
   "outputs": [
    {
     "data": {
      "text/html": [
       "\n",
       "No internet access detected.<br />\n",
       "Please download the file form this URL and store in <code>downloads/asos.txt</code><br />\n",
       "The download could take a few seconds.<br />\n",
       "<a href=\"https://mesonet.agron.iastate.edu/cgi-bin/request/asos.py?station=LSF&station=ORER&station=ETHC&year1=2010&month1=1&day1=1&year2=2021&month2=1&day2=1&data=metar&tz=Etc%2FUTC&format=onlycomma&latlon=no&elev=no&missing=M&trace=T&direct=yes&report_type=1&report_type=2\">https://mesonet.agron.iastate.edu/cgi-bin/request/asos.py?station=LSF&station=ORER&station=ETHC&year1=2010&month1=1&day1=1&year2=2021&month2=1&day2=1&data=metar&tz=Etc%2FUTC&format=onlycomma&latlon=no&elev=no&missing=M&trace=T&direct=yes&report_type=1&report_type=2</a>"
      ],
      "text/plain": [
       "<IPython.core.display.HTML object>"
      ]
     },
     "metadata": {},
     "output_type": "display_data"
    }
   ],
   "source": [
    "if mf.all_stations_exsist():\n",
    "    mf.download()\n",
    "else:\n",
    "    mf.show_alternatives()"
   ]
  },
  {
   "cell_type": "markdown",
   "metadata": {},
   "source": [
    "## Handmatig downloaden\n",
    "De METAR berichten kunnen ook handmatig gedownload worden, via de website van Iowa State Univesity. Ga daarvoor naar [https://mesonet.agron.iastate.edu/request/download.phtml]() en maar gebruik van de volgende opties:\n",
    "\n",
    "1) Select Station/Network by clicking on location\n",
    "> * Kies eventueel eerst bij Select Network het juiste gebied (land/staat/provincie).  \n",
    "> * Selecteerd de juiste stations.\n",
    "\n",
    "2) Select From Available Data  \n",
    "> * Kies voor `All Available` of `Raw METAR`  \n",
    "\n",
    "3) Specific Date Range  \n",
    "> * Kies datareeksen vanaf 1 januari t/m 1 januari  \n",
    "> (bijvoorbeeld Start: 2015 January 01, End: 2021 January 01)  \n",
    "\n",
    "4) Timezone of Observation Times  \n",
    "> * `Coordinated Universal Time (UTC)`  \n",
    "\n",
    "5) Download options  \n",
    "> * Data Format: `Comma Delimited (No DEBUG headers)`  \n",
    "> * Include Latitude + Longitude? `No`  \n",
    "> * Include Elevation (meters)? `No`  \n",
    "> * How to represent missing data? `Use 'M'`  \n",
    "> * How to represent Trace reports? `Use 'T'`  \n",
    "> * `Save result data to file on computer`  \n",
    "\n",
    "6) Limit Report Types  \n",
    "> * Kies beide, `MADIS HFMETAR` en `Routine + SPECIals`  \n",
    "\n",
    "7) Finaly, get Data  \n",
    "> * `Get Data`\n",
    "\n",
    "\n",
    "Sla het resulterende bestand op in `downloads/asos.txt`"
   ]
  },
  {
   "cell_type": "code",
   "execution_count": 8,
   "metadata": {},
   "outputs": [
    {
     "data": {
      "text/plain": [
       "{'abbr': 'LSF',\n",
       " 'name': 'FORT BENNING',\n",
       " 'timezone': 'America/New_York',\n",
       " 'latitude': -84.9913,\n",
       " 'longitude': 32.3373,\n",
       " 'elevation': 71.0}"
      ]
     },
     "execution_count": 8,
     "metadata": {},
     "output_type": "execute_result"
    }
   ],
   "source": [
    "mf.repo['stations']['LSF']"
   ]
  },
  {
   "cell_type": "code",
   "execution_count": 9,
   "metadata": {},
   "outputs": [
    {
     "name": "stdout",
     "output_type": "stream",
     "text": [
      "{'abbr': 'AG__ASOS', 'name': 'Antigua and Barbuda ASOS', 'polygon': [[[-62.6899, 17.0167], [-62.6899, 17.3057], [-61.6833, 17.3057], [-61.6833, 17.0167], [-62.6899, 17.0167]]]}\n",
      "{'abbr': 'BG__ASOS', 'name': 'Bulgaria ASOS', 'polygon': [[[23.28293, 42.033333333], [23.28293, 43.5514], [28.2813, 43.5514], [28.2813, 42.033333333], [23.28293, 42.033333333]]]}\n",
      "{'abbr': 'CG__ASOS', 'name': 'Congo ASOS', 'polygon': [[[11.7866, -4.91603], [11.7866, 1.716666667], [18.166666667, 1.716666667], [18.166666667, -4.91603], [11.7866, -4.91603]]]}\n",
      "{'abbr': 'EG__ASOS', 'name': 'Egypt ASOS', 'polygon': [[[27.12167, 22.27583], [27.12167, 31.42528], [34.87806, 31.42528], [34.87806, 22.27583], [27.12167, 22.27583]]]}\n",
      "{'abbr': 'GA__ASOS', 'name': 'Gabon ASOS', 'polygon': [[[8.65438, -3.516666667], [8.65438, 2.17564], [14.033, 2.17564], [14.033, -3.516666667], [8.65438, -3.516666667]]]}\n",
      "{'abbr': 'GA_ASOS', 'name': 'Georgia ASOS', 'polygon': [[[-85.3903, 30.6825], [-85.3903, 34.9544264], [-81.04599, 34.9544264], [-81.04599, 30.6825], [-85.3903, 30.6825]]]}\n",
      "{'abbr': 'GB__ASOS', 'name': 'Great Britain ASOS', 'polygon': [[[-7.46278, 49.10961], [-7.46278, 60.53278], [1.82278, 60.53278], [1.82278, 49.10961], [-7.46278, 49.10961]]]}\n",
      "{'abbr': 'GD__ASOS', 'name': 'Grenada ASOS', 'polygon': [[[-61.88619, 11.90425], [-61.88619, 12.10425], [-61.68619, 12.10425], [-61.68619, 11.90425], [-61.88619, 11.90425]]]}\n",
      "{'abbr': 'GE__ASOS', 'name': 'Georgia (Country) ASOS', 'polygon': [[[41.5, 41.53333], [41.5, 43.169], [45.0547, 43.169], [45.0547, 41.53333], [41.5, 41.53333]]]}\n",
      "{'abbr': 'GF__ASOS', 'name': 'French Guiana', 'polygon': [[[-54.1283, 3.5403], [-54.1283, 3.7403], [-53.9283, 3.7403], [-53.9283, 3.5403], [-54.1283, 3.5403]]]}\n",
      "{'abbr': 'GH__ASOS', 'name': 'Ghana ASOS', 'polygon': [[[-1.87476, 4.79606], [-1.87476, 9.65719], [-0.06679, 9.65719], [-0.06679, 4.79606], [-1.87476, 4.79606]]]}\n",
      "{'abbr': 'GI__ASOS', 'name': 'Gibraltar ASOS', 'polygon': [[[-5.44966, 36.05122], [-5.44966, 36.25122], [-5.24966, 36.25122], [-5.24966, 36.05122], [-5.44966, 36.05122]]]}\n",
      "{'abbr': 'GL__ASOS', 'name': 'Greenland ASOS', 'polygon': [[[-69.316666667, 61.06052], [-69.316666667, 77.566666667], [-22.55, 77.566666667], [-22.55, 61.06052], [-69.316666667, 61.06052]]]}\n",
      "{'abbr': 'GM__ASOS', 'name': 'Gambia ASOS', 'polygon': [[[-16.73333, 13.1], [-16.73333, 13.3], [-16.53333, 13.3], [-16.53333, 13.1], [-16.73333, 13.1]]]}\n",
      "{'abbr': 'GN__ASOS', 'name': 'Guinea ASOS', 'polygon': [[[-13.71196, 7.6333], [-13.71196, 11.4261], [-8.733, 11.4261], [-8.733, 7.6333], [-13.71196, 7.6333]]]}\n",
      "{'abbr': 'GQ__ASOS', 'name': 'Equatorial Guinea ASOS', 'polygon': [[[8.666666667, 1.80547], [8.666666667, 3.85], [9.90568, 3.85], [9.90568, 1.80547], [8.666666667, 1.80547]]]}\n",
      "{'abbr': 'GR__ASOS', 'name': 'Greece ASOS', 'polygon': [[[19.81667, 35.23972], [19.81667, 41.0133], [28.18619, 41.0133], [28.18619, 35.23972], [19.81667, 35.23972]]]}\n",
      "{'abbr': 'GT__ASOS', 'name': 'Guatemala ASOS', 'polygon': [[[-92.345941, 13.64547], [-92.345941, 17.1686], [-88.48377, 17.1686], [-88.48377, 13.64547], [-92.345941, 13.64547]]]}\n",
      "{'abbr': 'GU_ASOS', 'name': 'Guam ASOS', 'polygon': [[[144.6971703, 13.3838738], [144.6971703, 19.38], [166.74194, 19.38], [166.74194, 13.3838738], [144.6971703, 13.3838738]]]}\n",
      "{'abbr': 'GW__ASOS', 'name': 'Guinea-Bissau ASOS', 'polygon': [[[-15.75368, 11.79485], [-15.75368, 11.99485], [-15.55368, 11.99485], [-15.55368, 11.79485], [-15.75368, 11.79485]]]}\n",
      "{'abbr': 'GY__ASOS', 'name': 'Guyana ASOS', 'polygon': [[[-60.6, 3.2728], [-60.6, 8.3], [-52.26528, 8.3], [-52.26528, 3.2728], [-60.6, 3.2728]]]}\n",
      "{'abbr': 'MG__ASOS', 'name': 'Madagascar ASOS', 'polygon': [[[43.8728, -23.4517], [43.8728, -15.982], [47.6789, -15.982], [47.6789, -23.4517], [43.8728, -23.4517]]]}\n",
      "{'abbr': 'NG__ASOS', 'name': 'Nigeria ASOS', 'polygon': [[[3.22116, 4.75], [3.22116, 13.11667], [13.18095, 13.11667], [13.18095, 4.75], [3.22116, 4.75]]]}\n",
      "{'abbr': 'PG__ASOS', 'name': 'Papua New Guinea ASOS', 'polygon': [[[141.21667, -10.4115], [141.21667, -1.96189], [150.434, -1.96189], [150.434, -10.4115], [141.21667, -10.4115]]]}\n",
      "{'abbr': 'SG__ASOS', 'name': 'Singapore ASOS', 'polygon': [[[103.766666667, 1.26042], [103.766666667, 1.516666667], [104.08333, 1.516666667], [104.08333, 1.26042], [103.766666667, 1.26042]]]}\n",
      "{'abbr': 'TG__ASOS', 'name': 'Togo ASOS', 'polygon': [[[0.15, 6.06561], [0.15, 10.9], [1.6, 10.9], [1.6, 6.06561], [0.15, 6.06561]]]}\n",
      "{'abbr': 'UG__ASOS', 'name': 'Uganda ASOS', 'polygon': [[[30, -0.71667], [30, 1.82769], [33.7228, 1.82769], [33.7228, -0.71667], [30, -0.71667]]]}\n",
      "{'abbr': 'VG__ASOS', 'name': 'British Virgin Islands ASOS', 'polygon': [[[-64.643, 18.3448], [-64.643, 18.5448], [-64.443, 18.5448], [-64.443, 18.3448], [-64.643, 18.3448]]]}\n"
     ]
    }
   ],
   "source": [
    "for n,nr in mf.repo['networks'].items():\n",
    "    if 'G' in n:\n",
    "        print(nr)"
   ]
  },
  {
   "cell_type": "code",
   "execution_count": null,
   "metadata": {},
   "outputs": [],
   "source": []
  }
 ],
 "metadata": {
  "kernelspec": {
   "display_name": "Python 3",
   "language": "python",
   "name": "python3"
  },
  "language_info": {
   "codemirror_mode": {
    "name": "ipython",
    "version": 3
   },
   "file_extension": ".py",
   "mimetype": "text/x-python",
   "name": "python",
   "nbconvert_exporter": "python",
   "pygments_lexer": "ipython3",
   "version": "3.7.4"
  }
 },
 "nbformat": 4,
 "nbformat_minor": 4
}
